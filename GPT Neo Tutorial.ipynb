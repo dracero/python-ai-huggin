{
 "cells": [
  {
   "cell_type": "code",
   "execution_count": 1,
   "metadata": {},
   "outputs": [
    {
     "name": "stderr",
     "output_type": "stream",
     "text": [
      "Setting `pad_token_id` to `eos_token_id`:50256 for open-end generation.\n"
     ]
    },
    {
     "data": {
      "text/plain": [
       "[{'generated_text': 'But in the corner of the room you feel that something watching you is here: a kind of alien. And yet you were there before you knew anything'},\n",
       " {'generated_text': \"But in the corner of the room you feel that something watching you is in, and that this is what you're being watched for - a desire to\"},\n",
       " {'generated_text': 'But in the corner of the room you feel that something watching you was bothering you. The camera goes low. The words to take you to the next'},\n",
       " {'generated_text': 'But in the corner of the room you feel that something watching you was more important than seeing us in your mind.\\nThere was probably one more moment'},\n",
       " {'generated_text': \"But in the corner of the room you feel that something watching you moves, like a magnet for the light as you come under the covers. You're\"}]"
      ]
     },
     "execution_count": 1,
     "metadata": {},
     "output_type": "execute_result"
    }
   ],
   "source": [
    "from transformers import pipeline, set_seed\n",
    "generator = pipeline('text-generation', model='gpt2')\n",
    "set_seed(42)\n",
    "generator(\"But in the corner of the room you feel that something watching you\", max_length=30, num_return_sequences=5)"
   ]
  },
  {
   "cell_type": "code",
   "execution_count": 2,
   "metadata": {},
   "outputs": [
    {
     "name": "stderr",
     "output_type": "stream",
     "text": [
      "Some weights of the model checkpoint at roberta-large-mnli were not used when initializing RobertaForSequenceClassification: ['roberta.pooler.dense.bias', 'roberta.pooler.dense.weight']\n",
      "- This IS expected if you are initializing RobertaForSequenceClassification from the checkpoint of a model trained on another task or with another architecture (e.g. initializing a BertForSequenceClassification model from a BertForPreTraining model).\n",
      "- This IS NOT expected if you are initializing RobertaForSequenceClassification from the checkpoint of a model that you expect to be exactly identical (initializing a BertForSequenceClassification model from a BertForSequenceClassification model).\n"
     ]
    }
   ],
   "source": [
    "from transformers import pipeline\n",
    "classifier = pipeline('zero-shot-classification', model='roberta-large-mnli')"
   ]
  },
  {
   "cell_type": "code",
   "execution_count": 9,
   "metadata": {},
   "outputs": [
    {
     "data": {
      "text/plain": [
       "{'sequence': 'Ukrainian investigators on Friday began exhuming hundreds of bodies found after Russian forces fled the city of Izium in disarray last weekend. It was the first step in what officials said would be a painstaking process of figuring out how people had died during a three-week siege of their city and the six months of Russian occupation that followed.',\n",
       " 'labels': ['war', 'travel', 'cooking', 'dancing'],\n",
       " 'scores': [0.8278039693832397,\n",
       "  0.09191113710403442,\n",
       "  0.05139894038438797,\n",
       "  0.0288859773427248]}"
      ]
     },
     "execution_count": 9,
     "metadata": {},
     "output_type": "execute_result"
    }
   ],
   "source": [
    "sequence_to_classify = \"Ukrainian investigators on Friday began exhuming hundreds of bodies found after Russian forces fled the city of Izium in disarray last weekend. It was the first step in what officials said would be a painstaking process of figuring out how people had died during a three-week siege of their city and the six months of Russian occupation that followed.\"\n",
    "candidate_labels = ['travel', 'cooking', 'dancing', 'war']\n",
    "classifier(sequence_to_classify, candidate_labels)"
   ]
  },
  {
   "cell_type": "code",
   "execution_count": 10,
   "metadata": {},
   "outputs": [
    {
     "data": {
      "text/plain": [
       "{'sequence': 'Melt butter in a large pot over medium-low heat. Slowly add flour to butter, whisking constantly; cook until brown and the mixture no longer smells of flour, about 5 minutes. Pour 1 cup milk into the flour mixture, whisking continually until fully incorporated, about 45 seconds; repeat twice. Add remaining 3 cups milk to the mixture, whisking to incorporate. Stir Worcestershire sauce, mustard powder, onion powder, and cayenne pepper into the mixture; season with salt and black pepper.',\n",
       " 'labels': ['cooking', 'travel', 'war', 'dancing'],\n",
       " 'scores': [0.8790090084075928,\n",
       "  0.09247511625289917,\n",
       "  0.01826367899775505,\n",
       "  0.010252210311591625]}"
      ]
     },
     "execution_count": 10,
     "metadata": {},
     "output_type": "execute_result"
    }
   ],
   "source": [
    "sequence_to_classify = \"Melt butter in a large pot over medium-low heat. Slowly add flour to butter, whisking constantly; cook until brown and the mixture no longer smells of flour, about 5 minutes. Pour 1 cup milk into the flour mixture, whisking continually until fully incorporated, about 45 seconds; repeat twice. Add remaining 3 cups milk to the mixture, whisking to incorporate. Stir Worcestershire sauce, mustard powder, onion powder, and cayenne pepper into the mixture; season with salt and black pepper.\"\n",
    "candidate_labels = ['travel', 'cooking', 'dancing', 'war']\n",
    "classifier(sequence_to_classify, candidate_labels)"
   ]
  },
  {
   "cell_type": "code",
   "execution_count": 11,
   "metadata": {},
   "outputs": [
    {
     "data": {
      "application/vnd.jupyter.widget-view+json": {
       "model_id": "8d600ddf99994ef9834a081f96a020f7",
       "version_major": 2,
       "version_minor": 0
      },
      "text/plain": [
       "Downloading:   0%|          | 0.00/1.15k [00:00<?, ?B/s]"
      ]
     },
     "metadata": {},
     "output_type": "display_data"
    },
    {
     "data": {
      "application/vnd.jupyter.widget-view+json": {
       "model_id": "60cb348bbc9d41c8bd7b4a95c6a17275",
       "version_major": 2,
       "version_minor": 0
      },
      "text/plain": [
       "Downloading:   0%|          | 0.00/1.63G [00:00<?, ?B/s]"
      ]
     },
     "metadata": {},
     "output_type": "display_data"
    },
    {
     "data": {
      "application/vnd.jupyter.widget-view+json": {
       "model_id": "19915a0540eb46f59dd8cf90c75d5e4e",
       "version_major": 2,
       "version_minor": 0
      },
      "text/plain": [
       "Downloading:   0%|          | 0.00/26.0 [00:00<?, ?B/s]"
      ]
     },
     "metadata": {},
     "output_type": "display_data"
    },
    {
     "data": {
      "application/vnd.jupyter.widget-view+json": {
       "model_id": "dbf1e9055ecc4c1597c8d67d1335557f",
       "version_major": 2,
       "version_minor": 0
      },
      "text/plain": [
       "Downloading:   0%|          | 0.00/899k [00:00<?, ?B/s]"
      ]
     },
     "metadata": {},
     "output_type": "display_data"
    },
    {
     "data": {
      "application/vnd.jupyter.widget-view+json": {
       "model_id": "f3460cd0a052487a8fd5fa89aecda2e6",
       "version_major": 2,
       "version_minor": 0
      },
      "text/plain": [
       "Downloading:   0%|          | 0.00/456k [00:00<?, ?B/s]"
      ]
     },
     "metadata": {},
     "output_type": "display_data"
    },
    {
     "data": {
      "application/vnd.jupyter.widget-view+json": {
       "model_id": "1edaae0b6f8c48adb757b8c28af70409",
       "version_major": 2,
       "version_minor": 0
      },
      "text/plain": [
       "Downloading:   0%|          | 0.00/1.36M [00:00<?, ?B/s]"
      ]
     },
     "metadata": {},
     "output_type": "display_data"
    }
   ],
   "source": [
    "from transformers import pipeline\n",
    "classifier = pipeline(\"zero-shot-classification\", model=\"facebook/bart-large-mnli\")"
   ]
  },
  {
   "cell_type": "code",
   "execution_count": 17,
   "metadata": {},
   "outputs": [
    {
     "data": {
      "text/plain": [
       "{'sequence': 'Newton’s first law states that if a body is at rest or moving at a constant speed in a straight line, it will remain at rest or keep moving in a straight line at constant speed unless it is acted upon by a force. In fact, in classical Newtonian mechanics, there is no important distinction between rest and uniform motion in a straight line; they may be regarded as the same state of motion seen by different observers, one moving at the same velocity as the particle and the other moving at constant velocity with respect to the particle. This postulate is known as the law of inertia. The law of inertia was first formulated by Galileo Galilei for horizontal motion on Earth and was later generalized by René Descartes. Although the principle of inertia is the starting point and the fundamental assumption of classical mechanics, it is less than intuitively obvious to the untrained eye. In Aristotelian mechanics and in ordinary experience, objects that are not being pushed tend to come to rest. The law of inertia was deduced by Galileo from his experiments with balls rolling down inclined planes.',\n",
       " 'labels': ['dynamics', 'kinematics', 'dancing', 'war'],\n",
       " 'scores': [0.4004382789134979,\n",
       "  0.37313881516456604,\n",
       "  0.12062590569257736,\n",
       "  0.10579702258110046]}"
      ]
     },
     "execution_count": 17,
     "metadata": {},
     "output_type": "execute_result"
    }
   ],
   "source": [
    "sequence_to_classify = \"Newton’s first law states that if a body is at rest or moving at a constant speed in a straight line, it will remain at rest or keep moving in a straight line at constant speed unless it is acted upon by a force. In fact, in classical Newtonian mechanics, there is no important distinction between rest and uniform motion in a straight line; they may be regarded as the same state of motion seen by different observers, one moving at the same velocity as the particle and the other moving at constant velocity with respect to the particle. This postulate is known as the law of inertia. The law of inertia was first formulated by Galileo Galilei for horizontal motion on Earth and was later generalized by René Descartes. Although the principle of inertia is the starting point and the fundamental assumption of classical mechanics, it is less than intuitively obvious to the untrained eye. In Aristotelian mechanics and in ordinary experience, objects that are not being pushed tend to come to rest. The law of inertia was deduced by Galileo from his experiments with balls rolling down inclined planes.\"\n",
    "candidate_labels = ['dynamics', 'kinematics', 'dancing', 'war']\n",
    "classifier(sequence_to_classify, candidate_labels)"
   ]
  }
 ],
 "metadata": {
  "kernelspec": {
   "display_name": "Python 3.8.10 64-bit",
   "language": "python",
   "name": "python3"
  },
  "language_info": {
   "codemirror_mode": {
    "name": "ipython",
    "version": 3
   },
   "file_extension": ".py",
   "mimetype": "text/x-python",
   "name": "python",
   "nbconvert_exporter": "python",
   "pygments_lexer": "ipython3",
   "version": "3.8.10"
  },
  "orig_nbformat": 4,
  "vscode": {
   "interpreter": {
    "hash": "916dbcbb3f70747c44a77c7bcd40155683ae19c65e1c03b4aa3499c5328201f1"
   }
  }
 },
 "nbformat": 4,
 "nbformat_minor": 2
}
